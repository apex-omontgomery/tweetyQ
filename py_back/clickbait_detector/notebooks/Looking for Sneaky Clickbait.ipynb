{
 "cells": [
  {
   "cell_type": "markdown",
   "metadata": {},
   "source": [
    "# Looking for Sneaky Clickbait"
   ]
  },
  {
   "cell_type": "markdown",
   "metadata": {},
   "source": [
    "The aim of this experiment is to evaluate the clickbait detector model and find out what kind of clickbait does it fail to detect."
   ]
  },
  {
   "cell_type": "code",
   "execution_count": 1,
   "metadata": {
    "collapsed": false
   },
   "outputs": [
    {
     "name": "stderr",
     "output_type": "stream",
     "text": [
      "Using TensorFlow backend.\n"
     ]
    }
   ],
   "source": [
    "from keras.models import load_model\n",
    "from keras.preprocessing import sequence\n",
    "import sys\n",
    "import string \n",
    "import re\n",
    "\n",
    "\n",
    "UNK = \"<UNK>\"\n",
    "PAD = \"<PAD>\"\n",
    "MATCH_MULTIPLE_SPACES = re.compile(\"\\ {2,}\")\n",
    "SEQUENCE_LENGTH = 20"
   ]
  },
  {
   "cell_type": "markdown",
   "metadata": {},
   "source": [
    "## Load the model and vocabulary"
   ]
  },
  {
   "cell_type": "code",
   "execution_count": 2,
   "metadata": {
    "collapsed": false
   },
   "outputs": [],
   "source": [
    "model = load_model(\"../models/detector.h5\")\n",
    "\n",
    "\n",
    "vocabulary = open(\"../data/vocabulary.txt\").read().split(\"\\n\")\n",
    "inverse_vocabulary = dict((word, i) for i, word in enumerate(vocabulary))"
   ]
  },
  {
   "cell_type": "markdown",
   "metadata": {},
   "source": [
    "## Load validation data"
   ]
  },
  {
   "cell_type": "code",
   "execution_count": 3,
   "metadata": {
    "collapsed": false
   },
   "outputs": [
    {
     "name": "stdout",
     "output_type": "stream",
     "text": [
      "Clickbait: \n",
      "All The Looks At The People's Choice Awards\n",
      "Does Kylie Jenner Know How To Wear Coats? A Very Serious Investigation\n",
      "This Is What US Protests Looked Like In The '60s\n",
      "24 GIFs That Show How Corinne Is The Greatest \"Bachelor\" Villian Yet\n",
      "Nene Leakes And Kandi Burruss Finally \"See Each Other\" In A Good Way\n",
      "--------------------------------------------------\n",
      "Genuine: \n",
      "Mayawatis risky calculus\n",
      "L&T Q3 net up 39% at Rs 972 cr, co says note ban a disruptor\n",
      "Australian Open women's final: Serena beats sister Venus Williams to win 23rd Grand Slam\n",
      "It's Federer vs Nadal in Australian Open finals\n",
      "Medical board fails to make any conclusion in report on Sunandas death\n"
     ]
    }
   ],
   "source": [
    "clickbait = open(\"../data/clickbait.valid.txt\").read().split(\"\\n\")\n",
    "genuine = open(\"../data/genuine.valid.txt\").read().split(\"\\n\")\n",
    "\n",
    "print \"Clickbait: \"\n",
    "for each in clickbait[:5]:\n",
    "    print each\n",
    "print \"-\" * 50\n",
    "\n",
    "print \"Genuine: \"\n",
    "for each in genuine[:5]:\n",
    "    print each"
   ]
  },
  {
   "cell_type": "code",
   "execution_count": 4,
   "metadata": {
    "collapsed": true
   },
   "outputs": [],
   "source": [
    "def words_to_indices(words):\n",
    "    return [inverse_vocabulary.get(word, inverse_vocabulary[UNK]) for word in words]\n",
    "\n",
    "\n",
    "def clean(text):\n",
    "    for punctuation in string.punctuation:\n",
    "        text = text.replace(punctuation, \" \" + punctuation + \" \")\n",
    "    for i in range(10):\n",
    "        text = text.replace(str(i), \" \" + str(i) + \" \")\n",
    "    text = MATCH_MULTIPLE_SPACES.sub(\" \", text)\n",
    "    return text\n"
   ]
  },
  {
   "cell_type": "markdown",
   "metadata": {},
   "source": [
    "## Genuine news marked as clickbait"
   ]
  },
  {
   "cell_type": "code",
   "execution_count": 5,
   "metadata": {
    "collapsed": false
   },
   "outputs": [
    {
     "name": "stdout",
     "output_type": "stream",
     "text": [
      "0.865757 A look at Trumps executive order on refugees, immigration\n",
      "0.90955 Malala heartbroken over Trumps ban on most defenceless refugees\n",
      "0.541996 The White House hints that tax reform could pay for the border wall\n",
      "0.786731 Understanding the spike in Chinas birth rate\n",
      "0.685651 President Trumps infrastructure plans probably involve more tolls\n",
      "0.61867 Digital immortality for the Holocausts last survivors\n",
      "0.504147 Printed human body parts could soon be available for transplant\n",
      "0.979102 Germanys Social Democrats pick Martin Schulz as leader\n",
      "0.843225 Netgears Orbi might be the best Wi-Fi router Ive everused\n",
      "0.934488 Twitter releases national securityletters\n",
      "0.736603 Zuckerberg defends immigrants threatened byTrump\n",
      "0.807549 Doug shows you how to get rid of Amazon Freshtotes\n",
      "0.925443 Rogue National Park Service Twitter account says its no longer run by government employeesbut maybe it neverwas\n",
      "0.839666 Watch a Massive Fire Tornado Sweep the Outback\n",
      "0.991364 3 Things You Need to Know About the Science Rebellion Against Trump\n",
      "0.729308 These Are the Defiant \"Water Protectors\" of Standing Rock\n",
      "0.956611 Watch Alien Worlds Whirl Around a Distant Star\n",
      "0.563429 Why a Volcano Has Erupted Almost Every Hour for 94 Years\n",
      "0.93334 4 Key Impacts of the Keystone XL and Dakota Access Pipelines\n",
      "0.61299 Human-Pig Hybrid Created in the LabHere Are the Facts\n",
      "--------------------------------------------------\n",
      "20 out of 74 wrong.\n"
     ]
    }
   ],
   "source": [
    "wrong_genuine_count = 0\n",
    "for each in genuine:\n",
    "    cleaned = clean(each.encode(\"ascii\", \"ignore\").lower()).split()\n",
    "    indices = words_to_indices(cleaned)\n",
    "    indices = sequence.pad_sequences([indices], maxlen=SEQUENCE_LENGTH)\n",
    "    prediction = model.predict(indices)[0, 0]\n",
    "    if prediction > .5:\n",
    "        print prediction, each\n",
    "        wrong_genuine_count += 1\n",
    "\n",
    "print \"-\" * 50\n",
    "print \"{0} out of {1} wrong.\".format(wrong_genuine_count, len(genuine))"
   ]
  },
  {
   "cell_type": "markdown",
   "metadata": {},
   "source": [
    "## Clickbait not detected"
   ]
  },
  {
   "cell_type": "code",
   "execution_count": 6,
   "metadata": {
    "collapsed": false
   },
   "outputs": [
    {
     "name": "stdout",
     "output_type": "stream",
     "text": [
      "0.347193 Nene Leakes And Kandi Burruss Finally \"See Each Other\" In A Good Way\n",
      "0.446493 Channing Tatum Is Currently Teaching Himself How To Play Piano\n",
      "0.244268 Trump signs executive order to 'keep radical Islamic terrorists out' of U.S.\n",
      "0.486077 A look at Neil Gorsuch, a possible Trump Supreme Court nominee\n",
      "0.101281 Haley to U.N. allies: back us or we'll take names\n",
      "0.409009 Do Donald Trump's criticisms of NATO have merit? | Opinion\n",
      "0.139018 Mexico foreign minister says paying for Trump's border wall \"totally unacceptable\"\n",
      "0.0512496 China is stepping up as Donald Trump withdraws from the world stage | Opinion\n",
      "0.135089 Buffett, Gates express optimism for U.S. in Trump era\n",
      "0.154335 Can Congos footballers help ease political tensions?\n",
      "0.113401 Aruba; Five Star Island Goes Green\n",
      "0.0229274 Michael Wolff: Why the media keeps losing to Donald Trump\n",
      "0.31196 Vijay Mallya: I begged for help, not loans - Times of India\n",
      "0.117259 Union Budget 2017: What manufacturing sector expect from Arun Jaitley-  The Times of India\n",
      "0.183548 Read The Full Text Of Donald Trump's Executive Order Limiting Muslim Entry To The U.S.\n",
      "0.0772077 Weekend Roundup: A New 'Nationalist International' Challenges The Old Globalization\n",
      "0.0710645 Anne Frank Was A Refugee, Too\n",
      "0.437475 Can You Guess Which Drugs Kill The Most People In The UK?\n",
      "0.389437 GQ Gives Donald Trump An Arguably Much-Needed Makeover\n",
      "0.193617 Trump To Publish Weekly List Of Crimes Committed By Undocumented Immigrants In Sanctuary Cities\n",
      "0.446493 Channing Tatum Is Currently Teaching Himself How To Play Piano\n",
      "0.347193 Nene Leakes And Kandi Burruss Finally \"See Each Other\" In A Good Way\n",
      "--------------------------------------------------\n",
      "22 out of 76 wrong.\n"
     ]
    }
   ],
   "source": [
    "wrong_clickbait_count = 0\n",
    "for each in clickbait:\n",
    "    cleaned = clean(each.encode(\"ascii\", \"ignore\").lower()).split()\n",
    "    indices = words_to_indices(cleaned)\n",
    "    indices = sequence.pad_sequences([indices], maxlen=SEQUENCE_LENGTH)\n",
    "    prediction = model.predict(indices)[0, 0]\n",
    "    if prediction < .5:\n",
    "        print prediction, each\n",
    "        wrong_clickbait_count += 1\n",
    "\n",
    "print \"-\" * 50\n",
    "print \"{0} out of {1} wrong.\".format(wrong_clickbait_count, len(clickbait))"
   ]
  }
 ],
 "metadata": {
  "anaconda-cloud": {},
  "kernelspec": {
   "display_name": "Python [conda root]",
   "language": "python",
   "name": "conda-root-py"
  },
  "language_info": {
   "codemirror_mode": {
    "name": "ipython",
    "version": 2
   },
   "file_extension": ".py",
   "mimetype": "text/x-python",
   "name": "python",
   "nbconvert_exporter": "python",
   "pygments_lexer": "ipython2",
   "version": "2.7.12"
  }
 },
 "nbformat": 4,
 "nbformat_minor": 1
}
