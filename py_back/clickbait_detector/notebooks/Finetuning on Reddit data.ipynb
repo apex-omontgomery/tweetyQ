{
 "cells": [
  {
   "cell_type": "markdown",
   "metadata": {},
   "source": [
    "# Finetuning on Reddit data"
   ]
  },
  {
   "cell_type": "code",
   "execution_count": 1,
   "metadata": {
    "collapsed": false
   },
   "outputs": [
    {
     "name": "stderr",
     "output_type": "stream",
     "text": [
      "Using TensorFlow backend.\n"
     ]
    }
   ],
   "source": [
    "import sys, os\n",
    "sys.path.insert(0, os.path.join(os.path.abspath(os.pardir)))\n",
    "\n",
    "import numpy as np\n",
    "from keras.preprocessing import sequence\n",
    "from sklearn.cross_validation import train_test_split\n",
    "from src.models.convnets import ConvolutionalNet\n",
    "from src.preprocessors.preprocess_text import clean, mark_unknown_words\n",
    "from src.train import words_to_indices, SEQUENCE_LENGTH, EMBEDDING_DIMENSION, MODEL_FILE"
   ]
  },
  {
   "cell_type": "code",
   "execution_count": 2,
   "metadata": {
    "collapsed": false
   },
   "outputs": [
    {
     "name": "stdout",
     "output_type": "stream",
     "text": [
      "Clickbait\n",
      "--------------------------------------------------\n",
      "1. mom <UNK> a tough <UNK> after she starts <UNK> her daughter in the car\n",
      "2. if you see a $ 1 0 0 bill on your car , be <UNK> of this scam\n",
      "3. <UNK> an iphone 7 with an iphone <UNK> case\n",
      "4. she knows i lied\n",
      "5. bernie sanders could replace president trump with little known <UNK>\n",
      "--------------------------------------------------\n",
      "Genuine\n",
      "--------------------------------------------------\n",
      "1. <UNK> says <UNK> my great grandparents were denied <UNK> in australia & amp ; were murdered in <UNK> <UNK> - the jew terrorists who were <UNK> ' about in <UNK> <UNK> as the <UNK> twin <UNK> came down on 9 1 1 have had <UNK> <UNK> <UNK> in <UNK> since the day of the outrage - <UNK> <UNK> / steven <UNK>\n",
      "2. despite what you might think , <UNK> are not stupid\n",
      "3. <UNK> challenge : the real story of a <UNK> military exercise and its legacy\n",
      "4. death toll now 7 5 in <UNK> <UNK> , brazil as <UNK> chaos <UNK>\n",
      "5. <UNK> bans the daily mail as a source for being ' <UNK> '\n",
      "--------------------------------------------------\n"
     ]
    }
   ],
   "source": [
    "vocabulary = open(\"../data/vocabulary.txt\").read().split(\"\\n\")\n",
    "inverse_vocabulary = dict((word, i) for i, word in enumerate(vocabulary))\n",
    "\n",
    "clickbait = open(\"../data/reddit/clickbait-reddit.txt\").read() + \"\\n\"\n",
    "clickbait += open(\"../data/reddit/clickbait-top-reddit.txt\").read()\n",
    "clickbait = clean(clickbait)\n",
    "clickbait = clickbait.split(\"\\n\")\n",
    "clickbait = list(set(clickbait))\n",
    "clickbait = [mark_unknown_words(vocabulary, title) for title in clickbait]\n",
    "\n",
    "print \"Clickbait\"\n",
    "print \"-\" * 50\n",
    "for i, each in enumerate(clickbait[:5]):\n",
    "    print \"{0}. {1}\".format(i+1, each)\n",
    "print \"-\" * 50\n",
    "\n",
    "genuine = open(\"../data/reddit/genuine-reddit.txt\").read() + \"\\n\"\n",
    "genuine += open(\"../data/reddit/news-reddit.txt\").read()\n",
    "genuine = clean(genuine)\n",
    "genuine = genuine.split(\"\\n\")\n",
    "genuine = list(set(genuine))\n",
    "genuine = [mark_unknown_words(vocabulary, title) for title in genuine]\n",
    "\n",
    "print \"Genuine\"\n",
    "print \"-\" * 50\n",
    "for i, each in enumerate(genuine[:5]):\n",
    "    print \"{0}. {1}\".format(i+1, each)\n",
    "print \"-\" * 50\n"
   ]
  },
  {
   "cell_type": "code",
   "execution_count": 3,
   "metadata": {
    "collapsed": false
   },
   "outputs": [],
   "source": [
    "C = sequence.pad_sequences([words_to_indices(inverse_vocabulary, sentence.split()) for sentence in clickbait], maxlen=SEQUENCE_LENGTH)\n",
    "G = sequence.pad_sequences([words_to_indices(inverse_vocabulary, sentence.split()) for sentence in genuine], maxlen=SEQUENCE_LENGTH)\n",
    "\n",
    "X = np.concatenate([C, G], axis=0)\n",
    "y = np.array([[1] * C.shape[0] + [0] * G.shape[0]], dtype=np.int32).T\n",
    "p = np.random.permutation(y.shape[0])\n",
    "X = X[p]\n",
    "y = y[p]\n",
    "\n",
    "X_train, X_test, y_train, y_test =  train_test_split(X, y, stratify=y)"
   ]
  },
  {
   "cell_type": "code",
   "execution_count": 4,
   "metadata": {
    "collapsed": false
   },
   "outputs": [],
   "source": [
    "params = dict(vocabulary_size=len(vocabulary), embedding_dimension=EMBEDDING_DIMENSION, input_length=SEQUENCE_LENGTH)\n",
    "model = ConvolutionalNet(**params)"
   ]
  },
  {
   "cell_type": "code",
   "execution_count": 5,
   "metadata": {
    "collapsed": false
   },
   "outputs": [
    {
     "data": {
      "image/svg+xml": [
       "<svg height=\"1140pt\" viewBox=\"0.00 0.00 261.00 1140.00\" width=\"261pt\" xmlns=\"http://www.w3.org/2000/svg\" xmlns:xlink=\"http://www.w3.org/1999/xlink\">\n",
       "<g class=\"graph\" id=\"graph0\" transform=\"scale(1 1) rotate(0) translate(4 1136)\">\n",
       "<title>G</title>\n",
       "<polygon fill=\"white\" points=\"-4,4 -4,-1136 257,-1136 257,4 -4,4\" stroke=\"none\"/>\n",
       "<!-- 140099902367696 -->\n",
       "<g class=\"node\" id=\"node1\"><title>140099902367696</title>\n",
       "<polygon fill=\"none\" points=\"30,-1095.5 30,-1131.5 223,-1131.5 223,-1095.5 30,-1095.5\" stroke=\"black\"/>\n",
       "<text font-family=\"Times,serif\" font-size=\"14.00\" text-anchor=\"middle\" x=\"126.5\" y=\"-1109.8\">embedding_input_1: InputLayer</text>\n",
       "</g>\n",
       "<!-- 140098849803920 -->\n",
       "<g class=\"node\" id=\"node2\"><title>140098849803920</title>\n",
       "<polygon fill=\"none\" points=\"46,-1022.5 46,-1058.5 207,-1058.5 207,-1022.5 46,-1022.5\" stroke=\"black\"/>\n",
       "<text font-family=\"Times,serif\" font-size=\"14.00\" text-anchor=\"middle\" x=\"126.5\" y=\"-1036.8\">embedding_1: Embedding</text>\n",
       "</g>\n",
       "<!-- 140099902367696&#45;&gt;140098849803920 -->\n",
       "<g class=\"edge\" id=\"edge1\"><title>140099902367696-&gt;140098849803920</title>\n",
       "<path d=\"M126.5,-1095.31C126.5,-1087.29 126.5,-1077.55 126.5,-1068.57\" fill=\"none\" stroke=\"black\"/>\n",
       "<polygon fill=\"black\" points=\"130,-1068.53 126.5,-1058.53 123,-1068.53 130,-1068.53\" stroke=\"black\"/>\n",
       "</g>\n",
       "<!-- 140099902366992 -->\n",
       "<g class=\"node\" id=\"node3\"><title>140099902366992</title>\n",
       "<polygon fill=\"none\" points=\"26.5,-949.5 26.5,-985.5 226.5,-985.5 226.5,-949.5 26.5,-949.5\" stroke=\"black\"/>\n",
       "<text font-family=\"Times,serif\" font-size=\"14.00\" text-anchor=\"middle\" x=\"126.5\" y=\"-963.8\">convolution1d_1: Convolution1D</text>\n",
       "</g>\n",
       "<!-- 140098849803920&#45;&gt;140099902366992 -->\n",
       "<g class=\"edge\" id=\"edge2\"><title>140098849803920-&gt;140099902366992</title>\n",
       "<path d=\"M126.5,-1022.31C126.5,-1014.29 126.5,-1004.55 126.5,-995.569\" fill=\"none\" stroke=\"black\"/>\n",
       "<polygon fill=\"black\" points=\"130,-995.529 126.5,-985.529 123,-995.529 130,-995.529\" stroke=\"black\"/>\n",
       "</g>\n",
       "<!-- 140098848505552 -->\n",
       "<g class=\"node\" id=\"node4\"><title>140098848505552</title>\n",
       "<polygon fill=\"none\" points=\"0,-876.5 0,-912.5 253,-912.5 253,-876.5 0,-876.5\" stroke=\"black\"/>\n",
       "<text font-family=\"Times,serif\" font-size=\"14.00\" text-anchor=\"middle\" x=\"126.5\" y=\"-890.8\">batchnormalization_1: BatchNormalization</text>\n",
       "</g>\n",
       "<!-- 140099902366992&#45;&gt;140098848505552 -->\n",
       "<g class=\"edge\" id=\"edge3\"><title>140099902366992-&gt;140098848505552</title>\n",
       "<path d=\"M126.5,-949.313C126.5,-941.289 126.5,-931.547 126.5,-922.569\" fill=\"none\" stroke=\"black\"/>\n",
       "<polygon fill=\"black\" points=\"130,-922.529 126.5,-912.529 123,-922.529 130,-922.529\" stroke=\"black\"/>\n",
       "</g>\n",
       "<!-- 140098848276304 -->\n",
       "<g class=\"node\" id=\"node5\"><title>140098848276304</title>\n",
       "<polygon fill=\"none\" points=\"52.5,-803.5 52.5,-839.5 200.5,-839.5 200.5,-803.5 52.5,-803.5\" stroke=\"black\"/>\n",
       "<text font-family=\"Times,serif\" font-size=\"14.00\" text-anchor=\"middle\" x=\"126.5\" y=\"-817.8\">activation_1: Activation</text>\n",
       "</g>\n",
       "<!-- 140098848505552&#45;&gt;140098848276304 -->\n",
       "<g class=\"edge\" id=\"edge4\"><title>140098848505552-&gt;140098848276304</title>\n",
       "<path d=\"M126.5,-876.313C126.5,-868.289 126.5,-858.547 126.5,-849.569\" fill=\"none\" stroke=\"black\"/>\n",
       "<polygon fill=\"black\" points=\"130,-849.529 126.5,-839.529 123,-849.529 130,-849.529\" stroke=\"black\"/>\n",
       "</g>\n",
       "<!-- 140098847862736 -->\n",
       "<g class=\"node\" id=\"node6\"><title>140098847862736</title>\n",
       "<polygon fill=\"none\" points=\"26.5,-730.5 26.5,-766.5 226.5,-766.5 226.5,-730.5 26.5,-730.5\" stroke=\"black\"/>\n",
       "<text font-family=\"Times,serif\" font-size=\"14.00\" text-anchor=\"middle\" x=\"126.5\" y=\"-744.8\">convolution1d_2: Convolution1D</text>\n",
       "</g>\n",
       "<!-- 140098848276304&#45;&gt;140098847862736 -->\n",
       "<g class=\"edge\" id=\"edge5\"><title>140098848276304-&gt;140098847862736</title>\n",
       "<path d=\"M126.5,-803.313C126.5,-795.289 126.5,-785.547 126.5,-776.569\" fill=\"none\" stroke=\"black\"/>\n",
       "<polygon fill=\"black\" points=\"130,-776.529 126.5,-766.529 123,-776.529 130,-776.529\" stroke=\"black\"/>\n",
       "</g>\n",
       "<!-- 140098847471504 -->\n",
       "<g class=\"node\" id=\"node7\"><title>140098847471504</title>\n",
       "<polygon fill=\"none\" points=\"0,-657.5 0,-693.5 253,-693.5 253,-657.5 0,-657.5\" stroke=\"black\"/>\n",
       "<text font-family=\"Times,serif\" font-size=\"14.00\" text-anchor=\"middle\" x=\"126.5\" y=\"-671.8\">batchnormalization_2: BatchNormalization</text>\n",
       "</g>\n",
       "<!-- 140098847862736&#45;&gt;140098847471504 -->\n",
       "<g class=\"edge\" id=\"edge6\"><title>140098847862736-&gt;140098847471504</title>\n",
       "<path d=\"M126.5,-730.313C126.5,-722.289 126.5,-712.547 126.5,-703.569\" fill=\"none\" stroke=\"black\"/>\n",
       "<polygon fill=\"black\" points=\"130,-703.529 126.5,-693.529 123,-703.529 130,-703.529\" stroke=\"black\"/>\n",
       "</g>\n",
       "<!-- 140098846703248 -->\n",
       "<g class=\"node\" id=\"node8\"><title>140098846703248</title>\n",
       "<polygon fill=\"none\" points=\"52.5,-584.5 52.5,-620.5 200.5,-620.5 200.5,-584.5 52.5,-584.5\" stroke=\"black\"/>\n",
       "<text font-family=\"Times,serif\" font-size=\"14.00\" text-anchor=\"middle\" x=\"126.5\" y=\"-598.8\">activation_2: Activation</text>\n",
       "</g>\n",
       "<!-- 140098847471504&#45;&gt;140098846703248 -->\n",
       "<g class=\"edge\" id=\"edge7\"><title>140098847471504-&gt;140098846703248</title>\n",
       "<path d=\"M126.5,-657.313C126.5,-649.289 126.5,-639.547 126.5,-630.569\" fill=\"none\" stroke=\"black\"/>\n",
       "<polygon fill=\"black\" points=\"130,-630.529 126.5,-620.529 123,-630.529 130,-630.529\" stroke=\"black\"/>\n",
       "</g>\n",
       "<!-- 140098846769104 -->\n",
       "<g class=\"node\" id=\"node9\"><title>140098846769104</title>\n",
       "<polygon fill=\"none\" points=\"26.5,-511.5 26.5,-547.5 226.5,-547.5 226.5,-511.5 26.5,-511.5\" stroke=\"black\"/>\n",
       "<text font-family=\"Times,serif\" font-size=\"14.00\" text-anchor=\"middle\" x=\"126.5\" y=\"-525.8\">convolution1d_3: Convolution1D</text>\n",
       "</g>\n",
       "<!-- 140098846703248&#45;&gt;140098846769104 -->\n",
       "<g class=\"edge\" id=\"edge8\"><title>140098846703248-&gt;140098846769104</title>\n",
       "<path d=\"M126.5,-584.313C126.5,-576.289 126.5,-566.547 126.5,-557.569\" fill=\"none\" stroke=\"black\"/>\n",
       "<polygon fill=\"black\" points=\"130,-557.529 126.5,-547.529 123,-557.529 130,-557.529\" stroke=\"black\"/>\n",
       "</g>\n",
       "<!-- 140098846090384 -->\n",
       "<g class=\"node\" id=\"node10\"><title>140098846090384</title>\n",
       "<polygon fill=\"none\" points=\"0,-438.5 0,-474.5 253,-474.5 253,-438.5 0,-438.5\" stroke=\"black\"/>\n",
       "<text font-family=\"Times,serif\" font-size=\"14.00\" text-anchor=\"middle\" x=\"126.5\" y=\"-452.8\">batchnormalization_3: BatchNormalization</text>\n",
       "</g>\n",
       "<!-- 140098846769104&#45;&gt;140098846090384 -->\n",
       "<g class=\"edge\" id=\"edge9\"><title>140098846769104-&gt;140098846090384</title>\n",
       "<path d=\"M126.5,-511.313C126.5,-503.289 126.5,-493.547 126.5,-484.569\" fill=\"none\" stroke=\"black\"/>\n",
       "<polygon fill=\"black\" points=\"130,-484.529 126.5,-474.529 123,-484.529 130,-484.529\" stroke=\"black\"/>\n",
       "</g>\n",
       "<!-- 140098845989008 -->\n",
       "<g class=\"node\" id=\"node11\"><title>140098845989008</title>\n",
       "<polygon fill=\"none\" points=\"52.5,-365.5 52.5,-401.5 200.5,-401.5 200.5,-365.5 52.5,-365.5\" stroke=\"black\"/>\n",
       "<text font-family=\"Times,serif\" font-size=\"14.00\" text-anchor=\"middle\" x=\"126.5\" y=\"-379.8\">activation_3: Activation</text>\n",
       "</g>\n",
       "<!-- 140098846090384&#45;&gt;140098845989008 -->\n",
       "<g class=\"edge\" id=\"edge10\"><title>140098846090384-&gt;140098845989008</title>\n",
       "<path d=\"M126.5,-438.313C126.5,-430.289 126.5,-420.547 126.5,-411.569\" fill=\"none\" stroke=\"black\"/>\n",
       "<polygon fill=\"black\" points=\"130,-411.529 126.5,-401.529 123,-411.529 130,-411.529\" stroke=\"black\"/>\n",
       "</g>\n",
       "<!-- 140098845934928 -->\n",
       "<g class=\"node\" id=\"node12\"><title>140098845934928</title>\n",
       "<polygon fill=\"none\" points=\"26.5,-292.5 26.5,-328.5 226.5,-328.5 226.5,-292.5 26.5,-292.5\" stroke=\"black\"/>\n",
       "<text font-family=\"Times,serif\" font-size=\"14.00\" text-anchor=\"middle\" x=\"126.5\" y=\"-306.8\">maxpooling1d_1: MaxPooling1D</text>\n",
       "</g>\n",
       "<!-- 140098845989008&#45;&gt;140098845934928 -->\n",
       "<g class=\"edge\" id=\"edge11\"><title>140098845989008-&gt;140098845934928</title>\n",
       "<path d=\"M126.5,-365.313C126.5,-357.289 126.5,-347.547 126.5,-338.569\" fill=\"none\" stroke=\"black\"/>\n",
       "<polygon fill=\"black\" points=\"130,-338.529 126.5,-328.529 123,-338.529 130,-338.529\" stroke=\"black\"/>\n",
       "</g>\n",
       "<!-- 140098845793552 -->\n",
       "<g class=\"node\" id=\"node13\"><title>140098845793552</title>\n",
       "<polygon fill=\"none\" points=\"71.5,-219.5 71.5,-255.5 181.5,-255.5 181.5,-219.5 71.5,-219.5\" stroke=\"black\"/>\n",
       "<text font-family=\"Times,serif\" font-size=\"14.00\" text-anchor=\"middle\" x=\"126.5\" y=\"-233.8\">flatten_1: Flatten</text>\n",
       "</g>\n",
       "<!-- 140098845934928&#45;&gt;140098845793552 -->\n",
       "<g class=\"edge\" id=\"edge12\"><title>140098845934928-&gt;140098845793552</title>\n",
       "<path d=\"M126.5,-292.313C126.5,-284.289 126.5,-274.547 126.5,-265.569\" fill=\"none\" stroke=\"black\"/>\n",
       "<polygon fill=\"black\" points=\"130,-265.529 126.5,-255.529 123,-265.529 130,-265.529\" stroke=\"black\"/>\n",
       "</g>\n",
       "<!-- 140098845133776 -->\n",
       "<g class=\"node\" id=\"node14\"><title>140098845133776</title>\n",
       "<polygon fill=\"none\" points=\"75.5,-146.5 75.5,-182.5 177.5,-182.5 177.5,-146.5 75.5,-146.5\" stroke=\"black\"/>\n",
       "<text font-family=\"Times,serif\" font-size=\"14.00\" text-anchor=\"middle\" x=\"126.5\" y=\"-160.8\">dense_1: Dense</text>\n",
       "</g>\n",
       "<!-- 140098845793552&#45;&gt;140098845133776 -->\n",
       "<g class=\"edge\" id=\"edge13\"><title>140098845793552-&gt;140098845133776</title>\n",
       "<path d=\"M126.5,-219.313C126.5,-211.289 126.5,-201.547 126.5,-192.569\" fill=\"none\" stroke=\"black\"/>\n",
       "<polygon fill=\"black\" points=\"130,-192.529 126.5,-182.529 123,-192.529 130,-192.529\" stroke=\"black\"/>\n",
       "</g>\n",
       "<!-- 140098844866896 -->\n",
       "<g class=\"node\" id=\"node15\"><title>140098844866896</title>\n",
       "<polygon fill=\"none\" points=\"0,-73.5 0,-109.5 253,-109.5 253,-73.5 0,-73.5\" stroke=\"black\"/>\n",
       "<text font-family=\"Times,serif\" font-size=\"14.00\" text-anchor=\"middle\" x=\"126.5\" y=\"-87.8\">batchnormalization_4: BatchNormalization</text>\n",
       "</g>\n",
       "<!-- 140098845133776&#45;&gt;140098844866896 -->\n",
       "<g class=\"edge\" id=\"edge14\"><title>140098845133776-&gt;140098844866896</title>\n",
       "<path d=\"M126.5,-146.313C126.5,-138.289 126.5,-128.547 126.5,-119.569\" fill=\"none\" stroke=\"black\"/>\n",
       "<polygon fill=\"black\" points=\"130,-119.529 126.5,-109.529 123,-119.529 130,-119.529\" stroke=\"black\"/>\n",
       "</g>\n",
       "<!-- 140098844660240 -->\n",
       "<g class=\"node\" id=\"node16\"><title>140098844660240</title>\n",
       "<polygon fill=\"none\" points=\"52.5,-0.5 52.5,-36.5 200.5,-36.5 200.5,-0.5 52.5,-0.5\" stroke=\"black\"/>\n",
       "<text font-family=\"Times,serif\" font-size=\"14.00\" text-anchor=\"middle\" x=\"126.5\" y=\"-14.8\">activation_4: Activation</text>\n",
       "</g>\n",
       "<!-- 140098844866896&#45;&gt;140098844660240 -->\n",
       "<g class=\"edge\" id=\"edge15\"><title>140098844866896-&gt;140098844660240</title>\n",
       "<path d=\"M126.5,-73.3129C126.5,-65.2895 126.5,-55.5475 126.5,-46.5691\" fill=\"none\" stroke=\"black\"/>\n",
       "<polygon fill=\"black\" points=\"130,-46.5288 126.5,-36.5288 123,-46.5289 130,-46.5288\" stroke=\"black\"/>\n",
       "</g>\n",
       "</g>\n",
       "</svg>"
      ],
      "text/plain": [
       "<IPython.core.display.SVG object>"
      ]
     },
     "execution_count": 5,
     "metadata": {},
     "output_type": "execute_result"
    }
   ],
   "source": [
    "from IPython.display import SVG\n",
    "from keras.utils.visualize_util import model_to_dot\n",
    "\n",
    "\n",
    "SVG(model_to_dot(model).create(prog=\"dot\", format=\"svg\"))"
   ]
  },
  {
   "cell_type": "code",
   "execution_count": 22,
   "metadata": {
    "collapsed": false
   },
   "outputs": [],
   "source": [
    "from keras.layers import Convolution1D, Dense\n",
    "from keras.regularizers import activity_l1l2\n",
    "from keras.optimizers import SGD, Adam\n",
    "\n",
    "model.load_weights(\"../models/detector.h5\")\n",
    "\n",
    "for layer in model.layers:\n",
    "    layer.trainable = False\n",
    "\n",
    "for layer in model.layers[1:]:\n",
    "    if type(layer) == Dense or type(layer) == Convolution1D:\n",
    "        layer.W_regularizer=None\n",
    "        layer.activity_regularizer=activity_l1l2(0.05)\n",
    "    layer.trainable = True\n",
    "\n",
    "\n",
    "\n",
    "model.compile(loss=\"binary_crossentropy\", optimizer=\"adam\", metrics=[\"acc\"])"
   ]
  },
  {
   "cell_type": "code",
   "execution_count": 23,
   "metadata": {
    "collapsed": false
   },
   "outputs": [
    {
     "name": "stdout",
     "output_type": "stream",
     "text": [
      "Train on 2541 samples, validate on 848 samples\n",
      "Epoch 1/5\n",
      "2541/2541 [==============================] - 4s - loss: 0.5413 - acc: 0.7824 - val_loss: 0.5357 - val_acc: 0.8066\n",
      "Epoch 2/5\n",
      "2541/2541 [==============================] - 1s - loss: 0.3778 - acc: 0.8512 - val_loss: 0.4626 - val_acc: 0.8160\n",
      "Epoch 3/5\n",
      "2541/2541 [==============================] - 1s - loss: 0.3174 - acc: 0.8835 - val_loss: 0.4603 - val_acc: 0.8031\n",
      "Epoch 4/5\n",
      "2541/2541 [==============================] - 1s - loss: 0.2693 - acc: 0.9071 - val_loss: 0.4570 - val_acc: 0.8208\n",
      "Epoch 5/5\n",
      "2541/2541 [==============================] - 1s - loss: 0.2418 - acc: 0.9260 - val_loss: 0.4623 - val_acc: 0.8125\n"
     ]
    },
    {
     "data": {
      "text/plain": [
       "<keras.callbacks.History at 0x7f6b1d29bf10>"
      ]
     },
     "execution_count": 23,
     "metadata": {},
     "output_type": "execute_result"
    }
   ],
   "source": [
    "model.fit(X_train, y_train, validation_data=(X_test, y_test), batch_size=32, nb_epoch=5, shuffle=True)"
   ]
  },
  {
   "cell_type": "code",
   "execution_count": 24,
   "metadata": {
    "collapsed": true
   },
   "outputs": [],
   "source": [
    "model.save_weights(\"../models/detector.finetuned.h5\")"
   ]
  }
 ],
 "metadata": {
  "anaconda-cloud": {},
  "kernelspec": {
   "display_name": "Python [conda root]",
   "language": "python",
   "name": "conda-root-py"
  },
  "language_info": {
   "codemirror_mode": {
    "name": "ipython",
    "version": 2
   },
   "file_extension": ".py",
   "mimetype": "text/x-python",
   "name": "python",
   "nbconvert_exporter": "python",
   "pygments_lexer": "ipython2",
   "version": "2.7.12"
  }
 },
 "nbformat": 4,
 "nbformat_minor": 1
}
